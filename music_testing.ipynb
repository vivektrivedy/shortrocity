{
 "cells": [
  {
   "cell_type": "code",
   "execution_count": 4,
   "metadata": {},
   "outputs": [],
   "source": [
    "from moviepy.editor import VideoFileClip, AudioFileClip, CompositeAudioClip\n",
    "from moviepy.audio.fx.all import volumex"
   ]
  },
  {
   "cell_type": "code",
   "execution_count": 10,
   "metadata": {},
   "outputs": [
    {
     "name": "stdout",
     "output_type": "stream",
     "text": [
      "Moviepy - Building video shorts/1721963515/final.mp4.\n",
      "MoviePy - Writing audio in finalTEMP_MPY_wvf_snd.mp3\n"
     ]
    },
    {
     "name": "stderr",
     "output_type": "stream",
     "text": [
      "                                                                    \r"
     ]
    },
    {
     "name": "stdout",
     "output_type": "stream",
     "text": [
      "MoviePy - Done.\n",
      "Moviepy - Writing video shorts/1721963515/final.mp4\n",
      "\n"
     ]
    },
    {
     "name": "stderr",
     "output_type": "stream",
     "text": [
      "                                                                 \r"
     ]
    },
    {
     "name": "stdout",
     "output_type": "stream",
     "text": [
      "Moviepy - Done !\n",
      "Moviepy - video ready shorts/1721963515/final.mp4\n"
     ]
    }
   ],
   "source": [
    "video = VideoFileClip('shorts/1721963515/short.mp4')\n",
    "audio = AudioFileClip('shorts/1721963515/ukelele.mp3')\n",
    "\n",
    "#get length of video and trim audio\n",
    "length = video.duration\n",
    "audio = audio.set_duration(length)\n",
    "\n",
    "#reduce volume of audio\n",
    "audio = volumex(audio, 0.1)\n",
    "\n",
    "#overlay moviepy audio and set it to video\n",
    "new_audioclip = CompositeAudioClip([video.audio, audio])\n",
    "video.audio = new_audioclip\n",
    "\n",
    "#write new video\n",
    "video.write_videofile('shorts/1721963515/final.mp4')"
   ]
  }
 ],
 "metadata": {
  "language_info": {
   "name": "python"
  }
 },
 "nbformat": 4,
 "nbformat_minor": 2
}
